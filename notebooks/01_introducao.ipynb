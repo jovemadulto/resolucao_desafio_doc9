{
 "cells": [
  {
   "cell_type": "markdown",
   "metadata": {},
   "source": [
    "# Introdução\n",
    "\n",
    "Trata-se de uma análise de dados a partir de uma amostra de base de dados providenciada pela empresa Doc9, \"responsável por enviar advogados e prepostos para representar grandes clientes em audiências em todo o território nacional\".\n",
    "\n",
    "A seguir serão apresentados, em sua melhor capacidade, tentativas de responder perguntas feitas por interessados no negócio.\n",
    "\n",
    "Será considerado que a amostra de dados providenciada representa uma _amostra estatisticamente significativa_ daquela que a originou."
   ]
  },
  {
   "cell_type": "code",
   "execution_count": 1,
   "metadata": {},
   "outputs": [],
   "source": [
    "import pandas as pd\n",
    "import numpy as np\n",
    "from pathlib import Path\n",
    "import matplotlib.pyplot as plt\n",
    "import seaborn as sns"
   ]
  },
  {
   "cell_type": "code",
   "execution_count": 2,
   "metadata": {},
   "outputs": [],
   "source": [
    "# Em razão da estrutura da árvore de arquivos é interessante utilizar a\n",
    "# biblioteca pathlib para criar um caminho mais conveniente para encontrar\n",
    "# os dados a serem analisados\n",
    "\n",
    "data = Path.cwd().parent / 'data'"
   ]
  },
  {
   "cell_type": "code",
   "execution_count": 3,
   "metadata": {},
   "outputs": [],
   "source": [
    "df = pd.read_csv(\n",
    "    data / 'solicitacoes_doc9.csv',\n",
    "    parse_dates=[\n",
    "        'datahora_abertura_solicitacao',\n",
    "        'datahora_finalizacao_solicitacao',\n",
    "        'datahora_audiencia',\n",
    "        'prazo_para_inserir_dados',\n",
    "        ],\n",
    "    sep=';'\n",
    "    )\n",
    "\n",
    "# Exclui coluna provavelmente proveniente\n",
    "# do índice do banco de dados original\n",
    "df = df.drop(columns=['Unnamed: 0'])"
   ]
  },
  {
   "cell_type": "code",
   "execution_count": 4,
   "metadata": {},
   "outputs": [
    {
     "name": "stdout",
     "output_type": "stream",
     "text": [
      "<class 'pandas.core.frame.DataFrame'>\n",
      "RangeIndex: 30000 entries, 0 to 29999\n",
      "Data columns (total 22 columns):\n",
      " #   Column                            Non-Null Count  Dtype         \n",
      "---  ------                            --------------  -----         \n",
      " 0   id_solicitacao                    30000 non-null  int64         \n",
      " 1   nome_parceiro                     30000 non-null  object        \n",
      " 2   nome_cliente                      30000 non-null  object        \n",
      " 3   datahora_abertura_solicitacao     30000 non-null  datetime64[ns]\n",
      " 4   datahora_audiencia                30000 non-null  datetime64[ns]\n",
      " 5   prazo_para_inserir_dados          30000 non-null  datetime64[ns]\n",
      " 6   datahora_finalizacao_solicitacao  29933 non-null  datetime64[ns]\n",
      " 7   tipo                              30000 non-null  object        \n",
      " 8   tipo_demanda                      30000 non-null  object        \n",
      " 9   area_processo                     29999 non-null  object        \n",
      " 10  tipo_audiencia                    30000 non-null  object        \n",
      " 11  situacao                          30000 non-null  object        \n",
      " 12  orgao                             30000 non-null  object        \n",
      " 13  comarca                           29992 non-null  object        \n",
      " 14  uf_comarca                        30000 non-null  object        \n",
      " 15  situacao_dados                    29998 non-null  object        \n",
      " 16  orientacoes_inseridas_cliente     30000 non-null  object        \n",
      " 17  qtd_troca                         30000 non-null  int64         \n",
      " 18  qtd_declinio                      30000 non-null  int64         \n",
      " 19  houve_revelia                     30000 non-null  int64         \n",
      " 20  houve_ausencia                    30000 non-null  int64         \n",
      " 21  houve_ma_atuacao                  30000 non-null  int64         \n",
      "dtypes: datetime64[ns](4), int64(6), object(12)\n",
      "memory usage: 5.0+ MB\n"
     ]
    }
   ],
   "source": [
    "df.info()"
   ]
  },
  {
   "cell_type": "markdown",
   "metadata": {},
   "source": [
    "As seguintes colunas contém valores nulos:\n",
    "\n",
    "| Nome da coluna                   | Valores válidos |\n",
    "|----------------------------------|-----------------|\n",
    "| datahora_finalizacao_solicitacao |           29933 |\n",
    "| area_processo                    |           29999 |\n",
    "| comarca                          |           29992 |\n",
    "| situacao_dados                   |           29998 |"
   ]
  },
  {
   "cell_type": "markdown",
   "metadata": {},
   "source": [
    "## Tratamento de valores nulos\n",
    "\n",
    "Alguns algoritmos de machine learning não respondem bem ao treinamento com valores nulos, impactando seu resultado.\n",
    "\n",
    "Este é um bom momento, portanto, para tratar estes dados e evitar _bugs_ no futuro que poderão reduzir a performance das análises e, consequetemente, reduzir a qualidade dos insights gerados."
   ]
  },
  {
   "cell_type": "markdown",
   "metadata": {},
   "source": [
    "### datahora_finalizacao_solicitacao\n",
    "\n",
    "Métodos mais comuns para preencher dados nulos é utilizar a média ou a moda da coluna, porém este não me parece ser o melhor caminho neste campo específico.\n",
    "\n",
    "Dependendo do processo podemos gerar eventos como solicitações que foram finalizadas antes mesmo de serem solicitadas.\n",
    "\n",
    "Para contornar esta realidade, uma possível solução é a de calcular o tempo médio para a conclusão de uma solicitação e usar este valor como base de cálculo para determinar uma possível data de finalização. A utlização da média, neste caso, não deverá enviesar a distribuição de valores na coluna excessivamente."
   ]
  },
  {
   "cell_type": "code",
   "execution_count": 5,
   "metadata": {},
   "outputs": [
    {
     "data": {
      "text/html": [
       "<div>\n",
       "<style scoped>\n",
       "    .dataframe tbody tr th:only-of-type {\n",
       "        vertical-align: middle;\n",
       "    }\n",
       "\n",
       "    .dataframe tbody tr th {\n",
       "        vertical-align: top;\n",
       "    }\n",
       "\n",
       "    .dataframe thead th {\n",
       "        text-align: right;\n",
       "    }\n",
       "</style>\n",
       "<table border=\"1\" class=\"dataframe\">\n",
       "  <thead>\n",
       "    <tr style=\"text-align: right;\">\n",
       "      <th></th>\n",
       "      <th>datahora_abertura_solicitacao</th>\n",
       "      <th>datahora_finalizacao_solicitacao</th>\n",
       "    </tr>\n",
       "  </thead>\n",
       "  <tbody>\n",
       "    <tr>\n",
       "      <th>50</th>\n",
       "      <td>2024-12-24 08:24:45</td>\n",
       "      <td>NaT</td>\n",
       "    </tr>\n",
       "    <tr>\n",
       "      <th>79</th>\n",
       "      <td>2024-12-20 15:54:27</td>\n",
       "      <td>NaT</td>\n",
       "    </tr>\n",
       "    <tr>\n",
       "      <th>126</th>\n",
       "      <td>2024-12-19 17:09:22</td>\n",
       "      <td>NaT</td>\n",
       "    </tr>\n",
       "    <tr>\n",
       "      <th>127</th>\n",
       "      <td>2024-12-19 17:09:22</td>\n",
       "      <td>NaT</td>\n",
       "    </tr>\n",
       "    <tr>\n",
       "      <th>162</th>\n",
       "      <td>2024-12-18 16:29:24</td>\n",
       "      <td>NaT</td>\n",
       "    </tr>\n",
       "    <tr>\n",
       "      <th>...</th>\n",
       "      <td>...</td>\n",
       "      <td>...</td>\n",
       "    </tr>\n",
       "    <tr>\n",
       "      <th>12707</th>\n",
       "      <td>2024-09-16 10:45:05</td>\n",
       "      <td>NaT</td>\n",
       "    </tr>\n",
       "    <tr>\n",
       "      <th>12710</th>\n",
       "      <td>2024-09-16 10:44:54</td>\n",
       "      <td>NaT</td>\n",
       "    </tr>\n",
       "    <tr>\n",
       "      <th>18024</th>\n",
       "      <td>2024-08-14 18:03:59</td>\n",
       "      <td>NaT</td>\n",
       "    </tr>\n",
       "    <tr>\n",
       "      <th>20833</th>\n",
       "      <td>2024-07-29 16:13:11</td>\n",
       "      <td>NaT</td>\n",
       "    </tr>\n",
       "    <tr>\n",
       "      <th>20862</th>\n",
       "      <td>2024-07-29 15:19:16</td>\n",
       "      <td>NaT</td>\n",
       "    </tr>\n",
       "  </tbody>\n",
       "</table>\n",
       "<p>67 rows × 2 columns</p>\n",
       "</div>"
      ],
      "text/plain": [
       "      datahora_abertura_solicitacao datahora_finalizacao_solicitacao\n",
       "50              2024-12-24 08:24:45                              NaT\n",
       "79              2024-12-20 15:54:27                              NaT\n",
       "126             2024-12-19 17:09:22                              NaT\n",
       "127             2024-12-19 17:09:22                              NaT\n",
       "162             2024-12-18 16:29:24                              NaT\n",
       "...                             ...                              ...\n",
       "12707           2024-09-16 10:45:05                              NaT\n",
       "12710           2024-09-16 10:44:54                              NaT\n",
       "18024           2024-08-14 18:03:59                              NaT\n",
       "20833           2024-07-29 16:13:11                              NaT\n",
       "20862           2024-07-29 15:19:16                              NaT\n",
       "\n",
       "[67 rows x 2 columns]"
      ]
     },
     "execution_count": 5,
     "metadata": {},
     "output_type": "execute_result"
    }
   ],
   "source": [
    "(\n",
    "    df[df['datahora_finalizacao_solicitacao'] .isna()]\n",
    "    [['datahora_abertura_solicitacao', 'datahora_finalizacao_solicitacao']]\n",
    ")"
   ]
  },
  {
   "cell_type": "code",
   "execution_count": 6,
   "metadata": {},
   "outputs": [],
   "source": [
    "delta_med_fin = (df['datahora_finalizacao_solicitacao'] - df['datahora_abertura_solicitacao']).mean()\n",
    "\n",
    "# O tempo médio para que uma solicitação seja correspondida é de praticamente 2 semanas"
   ]
  },
  {
   "cell_type": "code",
   "execution_count": 7,
   "metadata": {},
   "outputs": [],
   "source": [
    "df['datahora_finalizacao_solicitacao'] = (\n",
    "    df['datahora_finalizacao_solicitacao']\n",
    "    .where(\n",
    "        cond=pd.notna(df['datahora_finalizacao_solicitacao']),\n",
    "        other=df['datahora_abertura_solicitacao'] + delta_med_fin)\n",
    ")"
   ]
  },
  {
   "cell_type": "code",
   "execution_count": 8,
   "metadata": {},
   "outputs": [
    {
     "data": {
      "text/html": [
       "<div>\n",
       "<style scoped>\n",
       "    .dataframe tbody tr th:only-of-type {\n",
       "        vertical-align: middle;\n",
       "    }\n",
       "\n",
       "    .dataframe tbody tr th {\n",
       "        vertical-align: top;\n",
       "    }\n",
       "\n",
       "    .dataframe thead th {\n",
       "        text-align: right;\n",
       "    }\n",
       "</style>\n",
       "<table border=\"1\" class=\"dataframe\">\n",
       "  <thead>\n",
       "    <tr style=\"text-align: right;\">\n",
       "      <th></th>\n",
       "      <th>datahora_abertura_solicitacao</th>\n",
       "      <th>datahora_finalizacao_solicitacao</th>\n",
       "    </tr>\n",
       "  </thead>\n",
       "  <tbody>\n",
       "    <tr>\n",
       "      <th>50</th>\n",
       "      <td>2024-12-24 08:24:45</td>\n",
       "      <td>2025-01-07 03:31:21.111615942</td>\n",
       "    </tr>\n",
       "    <tr>\n",
       "      <th>79</th>\n",
       "      <td>2024-12-20 15:54:27</td>\n",
       "      <td>2025-01-03 11:01:03.111615942</td>\n",
       "    </tr>\n",
       "    <tr>\n",
       "      <th>126</th>\n",
       "      <td>2024-12-19 17:09:22</td>\n",
       "      <td>2025-01-02 12:15:58.111615942</td>\n",
       "    </tr>\n",
       "    <tr>\n",
       "      <th>127</th>\n",
       "      <td>2024-12-19 17:09:22</td>\n",
       "      <td>2025-01-02 12:15:58.111615942</td>\n",
       "    </tr>\n",
       "    <tr>\n",
       "      <th>162</th>\n",
       "      <td>2024-12-18 16:29:24</td>\n",
       "      <td>2025-01-01 11:36:00.111615942</td>\n",
       "    </tr>\n",
       "  </tbody>\n",
       "</table>\n",
       "</div>"
      ],
      "text/plain": [
       "    datahora_abertura_solicitacao datahora_finalizacao_solicitacao\n",
       "50            2024-12-24 08:24:45    2025-01-07 03:31:21.111615942\n",
       "79            2024-12-20 15:54:27    2025-01-03 11:01:03.111615942\n",
       "126           2024-12-19 17:09:22    2025-01-02 12:15:58.111615942\n",
       "127           2024-12-19 17:09:22    2025-01-02 12:15:58.111615942\n",
       "162           2024-12-18 16:29:24    2025-01-01 11:36:00.111615942"
      ]
     },
     "execution_count": 8,
     "metadata": {},
     "output_type": "execute_result"
    }
   ],
   "source": [
    "## Algumas linhas preenchidas ilustram o processo realizado\n",
    "\n",
    "(\n",
    "    df\n",
    "    [['datahora_abertura_solicitacao', 'datahora_finalizacao_solicitacao']]\n",
    "    .iloc[[50, 79, 126, 127, 162]]\n",
    ")"
   ]
  },
  {
   "cell_type": "markdown",
   "metadata": {},
   "source": [
    "### area_processo\n",
    "\n",
    "O valor de Área do Processo, como varíavel categórica, e contendo somente 1 valor inválido, pode ser substuída com confiança pela moda da categoria."
   ]
  },
  {
   "cell_type": "code",
   "execution_count": 9,
   "metadata": {},
   "outputs": [],
   "source": [
    "df['area_processo'] = df['area_processo'].fillna(value=df['area_processo'].mode()[0])"
   ]
  },
  {
   "cell_type": "markdown",
   "metadata": {},
   "source": [
    "### comarca\n",
    "\n",
    "Os dados da comarca, por sua vez, possuem uma particularidade: O órgão não permite definir exatamente qual a jurisdição da audiência, e sem maiores informações a respeito do negócio, não é possível preencher estes dados com grande confiança.\n",
    "\n",
    "Entretanto, como a UF da comarca está disponível, e é do Rio Grande do Sul, podemos utilizar esta informação para -- pelo menos -- preencher os dados vazios com a principal comarca do Estado."
   ]
  },
  {
   "cell_type": "code",
   "execution_count": 10,
   "metadata": {},
   "outputs": [
    {
     "data": {
      "text/html": [
       "<div>\n",
       "<style scoped>\n",
       "    .dataframe tbody tr th:only-of-type {\n",
       "        vertical-align: middle;\n",
       "    }\n",
       "\n",
       "    .dataframe tbody tr th {\n",
       "        vertical-align: top;\n",
       "    }\n",
       "\n",
       "    .dataframe thead th {\n",
       "        text-align: right;\n",
       "    }\n",
       "</style>\n",
       "<table border=\"1\" class=\"dataframe\">\n",
       "  <thead>\n",
       "    <tr style=\"text-align: right;\">\n",
       "      <th></th>\n",
       "      <th>uf_comarca</th>\n",
       "      <th>comarca</th>\n",
       "      <th>orgao</th>\n",
       "    </tr>\n",
       "  </thead>\n",
       "  <tbody>\n",
       "    <tr>\n",
       "      <th>1277</th>\n",
       "      <td>RS</td>\n",
       "      <td>NaN</td>\n",
       "      <td>Órgão integração API</td>\n",
       "    </tr>\n",
       "    <tr>\n",
       "      <th>5623</th>\n",
       "      <td>RS</td>\n",
       "      <td>NaN</td>\n",
       "      <td>Órgão integração API</td>\n",
       "    </tr>\n",
       "    <tr>\n",
       "      <th>6418</th>\n",
       "      <td>RS</td>\n",
       "      <td>NaN</td>\n",
       "      <td>Órgão integração API</td>\n",
       "    </tr>\n",
       "    <tr>\n",
       "      <th>7128</th>\n",
       "      <td>RS</td>\n",
       "      <td>NaN</td>\n",
       "      <td>Órgão integração API</td>\n",
       "    </tr>\n",
       "    <tr>\n",
       "      <th>26772</th>\n",
       "      <td>RS</td>\n",
       "      <td>NaN</td>\n",
       "      <td>Órgão integração API</td>\n",
       "    </tr>\n",
       "    <tr>\n",
       "      <th>27914</th>\n",
       "      <td>RS</td>\n",
       "      <td>NaN</td>\n",
       "      <td>Órgão integração API</td>\n",
       "    </tr>\n",
       "    <tr>\n",
       "      <th>28477</th>\n",
       "      <td>RS</td>\n",
       "      <td>NaN</td>\n",
       "      <td>Órgão integração API</td>\n",
       "    </tr>\n",
       "    <tr>\n",
       "      <th>29308</th>\n",
       "      <td>RS</td>\n",
       "      <td>NaN</td>\n",
       "      <td>Órgão integração API</td>\n",
       "    </tr>\n",
       "  </tbody>\n",
       "</table>\n",
       "</div>"
      ],
      "text/plain": [
       "      uf_comarca comarca                 orgao\n",
       "1277          RS     NaN  Órgão integração API\n",
       "5623          RS     NaN  Órgão integração API\n",
       "6418          RS     NaN  Órgão integração API\n",
       "7128          RS     NaN  Órgão integração API\n",
       "26772         RS     NaN  Órgão integração API\n",
       "27914         RS     NaN  Órgão integração API\n",
       "28477         RS     NaN  Órgão integração API\n",
       "29308         RS     NaN  Órgão integração API"
      ]
     },
     "execution_count": 10,
     "metadata": {},
     "output_type": "execute_result"
    }
   ],
   "source": [
    "(\n",
    "    df[df['comarca'].isnull()]\n",
    "    [['uf_comarca', 'comarca', 'orgao']]\n",
    ")"
   ]
  },
  {
   "cell_type": "code",
   "execution_count": 11,
   "metadata": {},
   "outputs": [],
   "source": [
    "main_com_rs = df[df['uf_comarca'] == 'RS']['comarca'].mode()\n",
    "df['comarca'] = df['comarca'].fillna(value=df['comarca'].mode()[0])"
   ]
  },
  {
   "cell_type": "markdown",
   "metadata": {},
   "source": [
    "### situacao_dados\n",
    "\n",
    "Esta categoria, enfim, é particular porque os dados ausentes são provenientes de um teste realizado pela empresa e que foi extraído para a base de análise.\n",
    "\n",
    "Como são dados que não representam a realidade do negócio na perspectiva desta análise, não deverão ser considerados e, portanto, excluídos."
   ]
  },
  {
   "cell_type": "code",
   "execution_count": 12,
   "metadata": {},
   "outputs": [
    {
     "data": {
      "text/html": [
       "<div>\n",
       "<style scoped>\n",
       "    .dataframe tbody tr th:only-of-type {\n",
       "        vertical-align: middle;\n",
       "    }\n",
       "\n",
       "    .dataframe tbody tr th {\n",
       "        vertical-align: top;\n",
       "    }\n",
       "\n",
       "    .dataframe thead th {\n",
       "        text-align: right;\n",
       "    }\n",
       "</style>\n",
       "<table border=\"1\" class=\"dataframe\">\n",
       "  <thead>\n",
       "    <tr style=\"text-align: right;\">\n",
       "      <th></th>\n",
       "      <th>orgao</th>\n",
       "    </tr>\n",
       "  </thead>\n",
       "  <tbody>\n",
       "    <tr>\n",
       "      <th>465</th>\n",
       "      <td>Órgão TESTE DOC9</td>\n",
       "    </tr>\n",
       "    <tr>\n",
       "      <th>14620</th>\n",
       "      <td>Órgão TESTE DOC9</td>\n",
       "    </tr>\n",
       "  </tbody>\n",
       "</table>\n",
       "</div>"
      ],
      "text/plain": [
       "                  orgao\n",
       "465    Órgão TESTE DOC9\n",
       "14620  Órgão TESTE DOC9"
      ]
     },
     "execution_count": 12,
     "metadata": {},
     "output_type": "execute_result"
    }
   ],
   "source": [
    "df[df['situacao_dados'].isnull()][['orgao']]"
   ]
  },
  {
   "cell_type": "code",
   "execution_count": 13,
   "metadata": {},
   "outputs": [],
   "source": [
    "df = df.drop(\n",
    "    df[df['situacao_dados'].isnull()][['orgao']].index\n",
    ")"
   ]
  },
  {
   "cell_type": "markdown",
   "metadata": {},
   "source": [
    "Os dados devidamente tratados são salvos para serem usados nas análises seguintes."
   ]
  },
  {
   "cell_type": "code",
   "execution_count": 14,
   "metadata": {},
   "outputs": [
    {
     "name": "stdout",
     "output_type": "stream",
     "text": [
      "<class 'pandas.core.frame.DataFrame'>\n",
      "Index: 29998 entries, 0 to 29999\n",
      "Data columns (total 22 columns):\n",
      " #   Column                            Non-Null Count  Dtype         \n",
      "---  ------                            --------------  -----         \n",
      " 0   id_solicitacao                    29998 non-null  int64         \n",
      " 1   nome_parceiro                     29998 non-null  object        \n",
      " 2   nome_cliente                      29998 non-null  object        \n",
      " 3   datahora_abertura_solicitacao     29998 non-null  datetime64[ns]\n",
      " 4   datahora_audiencia                29998 non-null  datetime64[ns]\n",
      " 5   prazo_para_inserir_dados          29998 non-null  datetime64[ns]\n",
      " 6   datahora_finalizacao_solicitacao  29998 non-null  datetime64[ns]\n",
      " 7   tipo                              29998 non-null  object        \n",
      " 8   tipo_demanda                      29998 non-null  object        \n",
      " 9   area_processo                     29998 non-null  object        \n",
      " 10  tipo_audiencia                    29998 non-null  object        \n",
      " 11  situacao                          29998 non-null  object        \n",
      " 12  orgao                             29998 non-null  object        \n",
      " 13  comarca                           29998 non-null  object        \n",
      " 14  uf_comarca                        29998 non-null  object        \n",
      " 15  situacao_dados                    29998 non-null  object        \n",
      " 16  orientacoes_inseridas_cliente     29998 non-null  object        \n",
      " 17  qtd_troca                         29998 non-null  int64         \n",
      " 18  qtd_declinio                      29998 non-null  int64         \n",
      " 19  houve_revelia                     29998 non-null  int64         \n",
      " 20  houve_ausencia                    29998 non-null  int64         \n",
      " 21  houve_ma_atuacao                  29998 non-null  int64         \n",
      "dtypes: datetime64[ns](4), int64(6), object(12)\n",
      "memory usage: 5.3+ MB\n"
     ]
    }
   ],
   "source": [
    "df.info()"
   ]
  },
  {
   "cell_type": "code",
   "execution_count": 15,
   "metadata": {},
   "outputs": [],
   "source": [
    "df.to_csv(data / 'limpo_solicitacoes_doc9.csv')"
   ]
  }
 ],
 "metadata": {
  "kernelspec": {
   "display_name": "desafiodoc9",
   "language": "python",
   "name": "python3"
  },
  "language_info": {
   "codemirror_mode": {
    "name": "ipython",
    "version": 3
   },
   "file_extension": ".py",
   "mimetype": "text/x-python",
   "name": "python",
   "nbconvert_exporter": "python",
   "pygments_lexer": "ipython3",
   "version": "3.13.2"
  }
 },
 "nbformat": 4,
 "nbformat_minor": 2
}
