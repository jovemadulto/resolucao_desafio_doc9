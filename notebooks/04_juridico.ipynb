{
 "cells": [
  {
   "cell_type": "code",
   "execution_count": 1,
   "metadata": {},
   "outputs": [],
   "source": [
    "import pandas as pd\n",
    "from pathlib import Path\n",
    "import matplotlib.pyplot as plt\n",
    "import seaborn as sns\n",
    "import numpy as np"
   ]
  },
  {
   "cell_type": "code",
   "execution_count": 10,
   "metadata": {},
   "outputs": [],
   "source": [
    "data = Path.cwd().parent / 'data'\n",
    "df = pd.read_csv(data / 'limpo_solicitacoes_doc9.csv',\n",
    "    parse_dates=[\n",
    "        'datahora_abertura_solicitacao',\n",
    "        'datahora_finalizacao_solicitacao',\n",
    "        'datahora_audiencia',\n",
    "        'prazo_para_inserir_dados',\n",
    "        ]\n",
    "    )\n",
    "df = df.drop(columns=['Unnamed: 0'])"
   ]
  },
  {
   "cell_type": "markdown",
   "metadata": {},
   "source": [
    "# Jurídico\n",
    "_Pergunta do stakeholder:_\n",
    "\n",
    "_“Em quais áreas do direito ocorrem mais problemas? É mais comum em trabalhista ou cível? Existe relação com a antecedência com que o cliente envia os dados?”_"
   ]
  },
  {
   "cell_type": "code",
   "execution_count": 3,
   "metadata": {},
   "outputs": [
    {
     "data": {
      "text/html": [
       "<div>\n",
       "<style scoped>\n",
       "    .dataframe tbody tr th:only-of-type {\n",
       "        vertical-align: middle;\n",
       "    }\n",
       "\n",
       "    .dataframe tbody tr th {\n",
       "        vertical-align: top;\n",
       "    }\n",
       "\n",
       "    .dataframe thead th {\n",
       "        text-align: right;\n",
       "    }\n",
       "</style>\n",
       "<table border=\"1\" class=\"dataframe\">\n",
       "  <thead>\n",
       "    <tr style=\"text-align: right;\">\n",
       "      <th></th>\n",
       "      <th>area_processo</th>\n",
       "      <th>houve_revelia</th>\n",
       "      <th>houve_ausencia</th>\n",
       "      <th>houve_ma_atuacao</th>\n",
       "      <th>houve_qualquer_problema</th>\n",
       "      <th>qtd_processos_total</th>\n",
       "      <th>qtd_problema_norml</th>\n",
       "    </tr>\n",
       "  </thead>\n",
       "  <tbody>\n",
       "    <tr>\n",
       "      <th>0</th>\n",
       "      <td>Cível</td>\n",
       "      <td>25</td>\n",
       "      <td>284</td>\n",
       "      <td>18</td>\n",
       "      <td>327</td>\n",
       "      <td>18108</td>\n",
       "      <td>1.805832</td>\n",
       "    </tr>\n",
       "    <tr>\n",
       "      <th>1</th>\n",
       "      <td>Penal</td>\n",
       "      <td>0</td>\n",
       "      <td>0</td>\n",
       "      <td>0</td>\n",
       "      <td>0</td>\n",
       "      <td>4</td>\n",
       "      <td>0.000000</td>\n",
       "    </tr>\n",
       "    <tr>\n",
       "      <th>2</th>\n",
       "      <td>Trabalhista</td>\n",
       "      <td>7</td>\n",
       "      <td>114</td>\n",
       "      <td>44</td>\n",
       "      <td>165</td>\n",
       "      <td>11886</td>\n",
       "      <td>1.388188</td>\n",
       "    </tr>\n",
       "  </tbody>\n",
       "</table>\n",
       "</div>"
      ],
      "text/plain": [
       "  area_processo  houve_revelia  houve_ausencia  houve_ma_atuacao  \\\n",
       "0         Cível             25             284                18   \n",
       "1         Penal              0               0                 0   \n",
       "2   Trabalhista              7             114                44   \n",
       "\n",
       "   houve_qualquer_problema  qtd_processos_total  qtd_problema_norml  \n",
       "0                      327                18108            1.805832  \n",
       "1                        0                    4            0.000000  \n",
       "2                      165                11886            1.388188  "
      ]
     },
     "execution_count": 3,
     "metadata": {},
     "output_type": "execute_result"
    }
   ],
   "source": [
    "df_probs_area = (\n",
    "    df\n",
    "    .groupby(['area_processo'])\n",
    "    [['houve_revelia', 'houve_ausencia', 'houve_ma_atuacao']]\n",
    "    .sum()\n",
    ")\n",
    "\n",
    "df_probs_area['houve_qualquer_problema'] = df_probs_area.apply(lambda x: sum(x), axis=1)\n",
    "\n",
    "df_probs_area['qtd_processos_total'] = (\n",
    "    df\n",
    "    .groupby(['area_processo'])\n",
    "    ['id_solicitacao']\n",
    "    .count()\n",
    ")\n",
    "\n",
    "df_probs_area['qtd_problema_norml'] = (\n",
    "    df_probs_area\n",
    "    .apply(\n",
    "        lambda x: (x['houve_qualquer_problema'] / x['qtd_processos_total']) * 100,\n",
    "        axis=1)\n",
    "    )\n",
    "\n",
    "df_probs_area.reset_index(inplace=True)\n",
    "df_probs_area"
   ]
  },
  {
   "cell_type": "code",
   "execution_count": 4,
   "metadata": {},
   "outputs": [
    {
     "data": {
      "image/png": "[encoded data removed]",
      "text/plain": [
       "<Figure size 1000x700 with 1 Axes>"
      ]
     },
     "metadata": {},
     "output_type": "display_data"
    }
   ],
   "source": [
    "plt.figure(figsize=(10, 7))\n",
    "\n",
    "probs_plt = (\n",
    "    sns.barplot(\n",
    "        data = df_probs_area,\n",
    "        x='area_processo',\n",
    "        y='qtd_problema_norml',\n",
    "        orient='v',\n",
    "        color='#31cb74'\n",
    "        )\n",
    "\n",
    ")\n",
    "\n",
    "for container in probs_plt.containers:\n",
    "    bar_values = [bar.get_width() for bar in container]\n",
    "    probs_plt.bar_label(\n",
    "        container,\n",
    "        fmt='{:.2f}%',\n",
    "        color='black',\n",
    "        padding=0,\n",
    "        label_type='edge'\n",
    "        )\n",
    "\n",
    "plt.title(\n",
    "     'Cível e Trabalhista apresentam a taxas semelhantes de problemas\\n' + \\\n",
    "    'Processos da área Penal não tiveram nenhum problema no período analisado'\n",
    "    );"
   ]
  },
  {
   "cell_type": "markdown",
   "metadata": {},
   "source": [
    "_Existe relação com a antecedência com que o cliente envia os dados?_\n",
    "\n",
    "Como são duas variáveis categóricas nominais, o Teste Chi Quadrado é útil para determinar a correlação entre as áreas de atuação e a tempestividade das informações prestadas pelo cliente."
   ]
  },
  {
   "cell_type": "code",
   "execution_count": 5,
   "metadata": {},
   "outputs": [],
   "source": [
    "from scipy.stats import chi2_contingency\n",
    "\n",
    "# https://docs.scipy.org/doc/scipy/reference/generated/scipy.stats.chi2_contingency.html"
   ]
  },
  {
   "cell_type": "code",
   "execution_count": 6,
   "metadata": {},
   "outputs": [
    {
     "name": "stdout",
     "output_type": "stream",
     "text": [
      "--------------------\n",
      "Estatística Qui-Quadrado: 219.90485709220565\n",
      "Valor p: 1.7711975816744877e-48\n",
      "Graus de Liberdade: 2\n"
     ]
    }
   ],
   "source": [
    "chi2, pvalue, dof, expected_freq = chi2_contingency(pd.crosstab(df['area_processo'], df['situacao_dados']))\n",
    "\n",
    "print('-' * 20)\n",
    "print(f\"Estatística Qui-Quadrado: {chi2}\")\n",
    "# Mede a discrepância entre as frequências observadas\n",
    "# e as frequências esperadas sob a hipótese de independência.\n",
    "print(f\"Valor p: {pvalue}\")\n",
    "# A probabilidade de observar os dados (ou dados mais extremos) se a hipótese nula fosse verdadeira.\n",
    "# Um valor p baixo (geralmente ≤0.05) sugere que há evidências suficientes para rejeitar a\n",
    "# hipótese nula e concluir que há uma associação entre as variáveis.\n",
    "print(f\"Graus de Liberdade: {dof}\")\n",
    "# O número de valores na estatística final que são livres para variar."
   ]
  },
  {
   "cell_type": "markdown",
   "metadata": {},
   "source": [
    "## V de Cramér\n",
    "\n",
    "0 $\\rightarrow$ nenhuma associação.\n",
    "\n",
    "1 $\\rightarrow$ associação perfeita.\n",
    "\n",
    "https://docs.scipy.org/doc/scipy/reference/generated/scipy.stats.contingency.association.html"
   ]
  },
  {
   "cell_type": "code",
   "execution_count": 7,
   "metadata": {},
   "outputs": [],
   "source": [
    "from scipy.stats.contingency import association"
   ]
  },
  {
   "cell_type": "code",
   "execution_count": 8,
   "metadata": {},
   "outputs": [
    {
     "data": {
      "text/plain": [
       "0.0856192187135248"
      ]
     },
     "execution_count": 8,
     "metadata": {},
     "output_type": "execute_result"
    }
   ],
   "source": [
    "association(\n",
    "    pd.crosstab(df['area_processo'], df['situacao_dados']),\n",
    "    method='cramer'\n",
    ")"
   ]
  },
  {
   "cell_type": "markdown",
   "metadata": {},
   "source": [
    "Presumindo que a base de dados analisada é uma representação fiel dos eventos ocorridos durante o período analisado, de acordo com testes de Chi Quadrado e V de Cramér, os problemas encontrados nas diferentes searas de atuação tem pouca relação com o périodo em que o cliente envia dos dados para os parceiros."
   ]
  }
 ],
 "metadata": {
  "kernelspec": {
   "display_name": "desafiodoc9",
   "language": "python",
   "name": "python3"
  },
  "language_info": {
   "codemirror_mode": {
    "name": "ipython",
    "version": 3
   },
   "file_extension": ".py",
   "mimetype": "text/x-python",
   "name": "python",
   "nbconvert_exporter": "python",
   "pygments_lexer": "ipython3",
   "version": "3.13.2"
  }
 },
 "nbformat": 4,
 "nbformat_minor": 2
}
